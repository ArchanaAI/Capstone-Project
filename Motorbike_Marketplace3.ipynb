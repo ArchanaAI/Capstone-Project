{
 "cells": [
  {
   "cell_type": "code",
   "execution_count": 1,
   "id": "80acdcf0",
   "metadata": {},
   "outputs": [],
   "source": [
    "import pandas as pd"
   ]
  },
  {
   "cell_type": "code",
   "execution_count": 2,
   "id": "e75e0de2",
   "metadata": {},
   "outputs": [],
   "source": [
    "dataset=pd.read_csv(\"Premotorbike.csv\")"
   ]
  },
  {
   "cell_type": "code",
   "execution_count": 3,
   "id": "318676ba",
   "metadata": {},
   "outputs": [
    {
     "data": {
      "text/html": [
       "<div>\n",
       "<style scoped>\n",
       "    .dataframe tbody tr th:only-of-type {\n",
       "        vertical-align: middle;\n",
       "    }\n",
       "\n",
       "    .dataframe tbody tr th {\n",
       "        vertical-align: top;\n",
       "    }\n",
       "\n",
       "    .dataframe thead th {\n",
       "        text-align: right;\n",
       "    }\n",
       "</style>\n",
       "<table border=\"1\" class=\"dataframe\">\n",
       "  <thead>\n",
       "    <tr style=\"text-align: right;\">\n",
       "      <th></th>\n",
       "      <th>price</th>\n",
       "      <th>mileage</th>\n",
       "      <th>power</th>\n",
       "      <th>make_model</th>\n",
       "      <th>date</th>\n",
       "      <th>fuel</th>\n",
       "      <th>gear</th>\n",
       "      <th>offer_type</th>\n",
       "    </tr>\n",
       "  </thead>\n",
       "  <tbody>\n",
       "    <tr>\n",
       "      <th>0</th>\n",
       "      <td>23990</td>\n",
       "      <td>150</td>\n",
       "      <td>218.000000</td>\n",
       "      <td>Honda</td>\n",
       "      <td>03/2020</td>\n",
       "      <td>Gasoline</td>\n",
       "      <td>Manual</td>\n",
       "      <td>Demonstration</td>\n",
       "    </tr>\n",
       "    <tr>\n",
       "      <th>1</th>\n",
       "      <td>7500</td>\n",
       "      <td>2871</td>\n",
       "      <td>90.000000</td>\n",
       "      <td>BMW F 800 GT</td>\n",
       "      <td>09/2018</td>\n",
       "      <td>Gasoline</td>\n",
       "      <td>Manual</td>\n",
       "      <td>Used</td>\n",
       "    </tr>\n",
       "    <tr>\n",
       "      <th>2</th>\n",
       "      <td>800</td>\n",
       "      <td>1700</td>\n",
       "      <td>3.000000</td>\n",
       "      <td>Nova Motors Retro Star</td>\n",
       "      <td>10/2019</td>\n",
       "      <td>Gasoline</td>\n",
       "      <td>Manual</td>\n",
       "      <td>Used</td>\n",
       "    </tr>\n",
       "    <tr>\n",
       "      <th>3</th>\n",
       "      <td>14990</td>\n",
       "      <td>24345</td>\n",
       "      <td>206.157598</td>\n",
       "      <td>Aprilia RSV4</td>\n",
       "      <td>03/2016</td>\n",
       "      <td>Gasoline</td>\n",
       "      <td>Manual</td>\n",
       "      <td>Used</td>\n",
       "    </tr>\n",
       "    <tr>\n",
       "      <th>4</th>\n",
       "      <td>6200</td>\n",
       "      <td>25000</td>\n",
       "      <td>128.000000</td>\n",
       "      <td>Kawasaki Ninja ZX-6R</td>\n",
       "      <td>08/2009</td>\n",
       "      <td>Gasoline</td>\n",
       "      <td>Manual</td>\n",
       "      <td>Used</td>\n",
       "    </tr>\n",
       "    <tr>\n",
       "      <th>...</th>\n",
       "      <td>...</td>\n",
       "      <td>...</td>\n",
       "      <td>...</td>\n",
       "      <td>...</td>\n",
       "      <td>...</td>\n",
       "      <td>...</td>\n",
       "      <td>...</td>\n",
       "      <td>...</td>\n",
       "    </tr>\n",
       "    <tr>\n",
       "      <th>29080</th>\n",
       "      <td>36500</td>\n",
       "      <td>7000</td>\n",
       "      <td>90.000000</td>\n",
       "      <td>Harley-Davidson Road Glide</td>\n",
       "      <td>09/2019</td>\n",
       "      <td>Gasoline</td>\n",
       "      <td>Manual</td>\n",
       "      <td>Used</td>\n",
       "    </tr>\n",
       "    <tr>\n",
       "      <th>29081</th>\n",
       "      <td>17300</td>\n",
       "      <td>10592</td>\n",
       "      <td>125.000000</td>\n",
       "      <td>BMW R 1200 RT</td>\n",
       "      <td>04/2018</td>\n",
       "      <td>Gasoline</td>\n",
       "      <td>Manual</td>\n",
       "      <td>Used</td>\n",
       "    </tr>\n",
       "    <tr>\n",
       "      <th>29082</th>\n",
       "      <td>8500</td>\n",
       "      <td>29000</td>\n",
       "      <td>54.000000</td>\n",
       "      <td>Harley-Davidson Iron 883</td>\n",
       "      <td>05/2004</td>\n",
       "      <td>Gasoline</td>\n",
       "      <td>Manual</td>\n",
       "      <td>Used</td>\n",
       "    </tr>\n",
       "    <tr>\n",
       "      <th>29083</th>\n",
       "      <td>8350</td>\n",
       "      <td>11500</td>\n",
       "      <td>56.000000</td>\n",
       "      <td>Triumph Bonneville T100</td>\n",
       "      <td>05/2018</td>\n",
       "      <td>Gasoline</td>\n",
       "      <td>Manual</td>\n",
       "      <td>Used</td>\n",
       "    </tr>\n",
       "    <tr>\n",
       "      <th>29084</th>\n",
       "      <td>8500</td>\n",
       "      <td>19000</td>\n",
       "      <td>46.000000</td>\n",
       "      <td>Yamaha TMAX 530</td>\n",
       "      <td>07/2018</td>\n",
       "      <td>Gasoline</td>\n",
       "      <td>Automatic</td>\n",
       "      <td>Used</td>\n",
       "    </tr>\n",
       "  </tbody>\n",
       "</table>\n",
       "<p>29085 rows × 8 columns</p>\n",
       "</div>"
      ],
      "text/plain": [
       "       price  mileage       power                  make_model     date  \\\n",
       "0      23990      150  218.000000                       Honda  03/2020   \n",
       "1       7500     2871   90.000000                BMW F 800 GT  09/2018   \n",
       "2        800     1700    3.000000      Nova Motors Retro Star  10/2019   \n",
       "3      14990    24345  206.157598                Aprilia RSV4  03/2016   \n",
       "4       6200    25000  128.000000        Kawasaki Ninja ZX-6R  08/2009   \n",
       "...      ...      ...         ...                         ...      ...   \n",
       "29080  36500     7000   90.000000  Harley-Davidson Road Glide  09/2019   \n",
       "29081  17300    10592  125.000000               BMW R 1200 RT  04/2018   \n",
       "29082   8500    29000   54.000000    Harley-Davidson Iron 883  05/2004   \n",
       "29083   8350    11500   56.000000     Triumph Bonneville T100  05/2018   \n",
       "29084   8500    19000   46.000000             Yamaha TMAX 530  07/2018   \n",
       "\n",
       "           fuel       gear     offer_type  \n",
       "0      Gasoline     Manual  Demonstration  \n",
       "1      Gasoline     Manual           Used  \n",
       "2      Gasoline     Manual           Used  \n",
       "3      Gasoline     Manual           Used  \n",
       "4      Gasoline     Manual           Used  \n",
       "...         ...        ...            ...  \n",
       "29080  Gasoline     Manual           Used  \n",
       "29081  Gasoline     Manual           Used  \n",
       "29082  Gasoline     Manual           Used  \n",
       "29083  Gasoline     Manual           Used  \n",
       "29084  Gasoline  Automatic           Used  \n",
       "\n",
       "[29085 rows x 8 columns]"
      ]
     },
     "execution_count": 3,
     "metadata": {},
     "output_type": "execute_result"
    }
   ],
   "source": [
    "dataset"
   ]
  },
  {
   "cell_type": "code",
   "execution_count": 4,
   "id": "12c7187f",
   "metadata": {},
   "outputs": [
    {
     "data": {
      "text/plain": [
       "price         0\n",
       "mileage       0\n",
       "power         0\n",
       "make_model    0\n",
       "date          0\n",
       "fuel          0\n",
       "gear          0\n",
       "offer_type    0\n",
       "dtype: int64"
      ]
     },
     "execution_count": 4,
     "metadata": {},
     "output_type": "execute_result"
    }
   ],
   "source": [
    "dataset.isnull().sum()"
   ]
  },
  {
   "cell_type": "code",
   "execution_count": 5,
   "id": "f0cd8ef3",
   "metadata": {},
   "outputs": [
    {
     "data": {
      "text/html": [
       "<div>\n",
       "<style scoped>\n",
       "    .dataframe tbody tr th:only-of-type {\n",
       "        vertical-align: middle;\n",
       "    }\n",
       "\n",
       "    .dataframe tbody tr th {\n",
       "        vertical-align: top;\n",
       "    }\n",
       "\n",
       "    .dataframe thead th {\n",
       "        text-align: right;\n",
       "    }\n",
       "</style>\n",
       "<table border=\"1\" class=\"dataframe\">\n",
       "  <thead>\n",
       "    <tr style=\"text-align: right;\">\n",
       "      <th></th>\n",
       "      <th>price</th>\n",
       "      <th>mileage</th>\n",
       "      <th>power</th>\n",
       "    </tr>\n",
       "  </thead>\n",
       "  <tbody>\n",
       "    <tr>\n",
       "      <th>price</th>\n",
       "      <td>2.824040e+13</td>\n",
       "      <td>2.674166e+10</td>\n",
       "      <td>-4.351313e+06</td>\n",
       "    </tr>\n",
       "    <tr>\n",
       "      <th>mileage</th>\n",
       "      <td>2.674166e+10</td>\n",
       "      <td>5.083757e+10</td>\n",
       "      <td>-1.276479e+05</td>\n",
       "    </tr>\n",
       "    <tr>\n",
       "      <th>power</th>\n",
       "      <td>-4.351313e+06</td>\n",
       "      <td>-1.276479e+05</td>\n",
       "      <td>2.887307e+07</td>\n",
       "    </tr>\n",
       "  </tbody>\n",
       "</table>\n",
       "</div>"
      ],
      "text/plain": [
       "                price       mileage         power\n",
       "price    2.824040e+13  2.674166e+10 -4.351313e+06\n",
       "mileage  2.674166e+10  5.083757e+10 -1.276479e+05\n",
       "power   -4.351313e+06 -1.276479e+05  2.887307e+07"
      ]
     },
     "execution_count": 5,
     "metadata": {},
     "output_type": "execute_result"
    }
   ],
   "source": [
    "dataset.cov()\n",
    "#[price,mileage]=2.674[positive Covariance]\n",
    "#[price,power]=-4.351[negative Covariance]"
   ]
  },
  {
   "cell_type": "code",
   "execution_count": 6,
   "id": "99caa7f0",
   "metadata": {},
   "outputs": [
    {
     "data": {
      "text/html": [
       "<div>\n",
       "<style scoped>\n",
       "    .dataframe tbody tr th:only-of-type {\n",
       "        vertical-align: middle;\n",
       "    }\n",
       "\n",
       "    .dataframe tbody tr th {\n",
       "        vertical-align: top;\n",
       "    }\n",
       "\n",
       "    .dataframe thead th {\n",
       "        text-align: right;\n",
       "    }\n",
       "</style>\n",
       "<table border=\"1\" class=\"dataframe\">\n",
       "  <thead>\n",
       "    <tr style=\"text-align: right;\">\n",
       "      <th></th>\n",
       "      <th>price</th>\n",
       "      <th>mileage</th>\n",
       "      <th>power</th>\n",
       "    </tr>\n",
       "  </thead>\n",
       "  <tbody>\n",
       "    <tr>\n",
       "      <th>price</th>\n",
       "      <td>1.000000</td>\n",
       "      <td>0.022318</td>\n",
       "      <td>-0.000152</td>\n",
       "    </tr>\n",
       "    <tr>\n",
       "      <th>mileage</th>\n",
       "      <td>0.022318</td>\n",
       "      <td>1.000000</td>\n",
       "      <td>-0.000105</td>\n",
       "    </tr>\n",
       "    <tr>\n",
       "      <th>power</th>\n",
       "      <td>-0.000152</td>\n",
       "      <td>-0.000105</td>\n",
       "      <td>1.000000</td>\n",
       "    </tr>\n",
       "  </tbody>\n",
       "</table>\n",
       "</div>"
      ],
      "text/plain": [
       "            price   mileage     power\n",
       "price    1.000000  0.022318 -0.000152\n",
       "mileage  0.022318  1.000000 -0.000105\n",
       "power   -0.000152 -0.000105  1.000000"
      ]
     },
     "execution_count": 6,
     "metadata": {},
     "output_type": "execute_result"
    }
   ],
   "source": [
    "dataset.corr()\n",
    "#[price,mileage]=0.02[positive correlation]"
   ]
  },
  {
   "cell_type": "code",
   "execution_count": 7,
   "id": "442e5c84",
   "metadata": {},
   "outputs": [
    {
     "data": {
      "text/plain": [
       "Ttest_relResult(statistic=0.9712768455848271, pvalue=0.33141918004489834)"
      ]
     },
     "execution_count": 7,
     "metadata": {},
     "output_type": "execute_result"
    }
   ],
   "source": [
    "from scipy.stats import ttest_rel\n",
    "dataset=dataset.dropna()\n",
    "v = dataset[dataset['gear']=='Manual']['price']\n",
    "s= dataset[dataset['gear']=='Manual']['mileage']\n",
    "ttest_rel(v, s)"
   ]
  },
  {
   "cell_type": "code",
   "execution_count": 8,
   "id": "beeeac1f",
   "metadata": {},
   "outputs": [],
   "source": [
    "##p<0.05 Reject Null Hypothesis. here pvalue is 0.24 so Accept Null Hypothesis.There is no significant difference b/w price and mileage"
   ]
  },
  {
   "cell_type": "code",
   "execution_count": 9,
   "id": "85fb16ed",
   "metadata": {},
   "outputs": [
    {
     "data": {
      "text/plain": [
       "Ttest_relResult(statistic=1.6568035135324832, pvalue=0.09757088339588627)"
      ]
     },
     "execution_count": 9,
     "metadata": {},
     "output_type": "execute_result"
    }
   ],
   "source": [
    "from scipy.stats import ttest_rel\n",
    "dataset=dataset.dropna()\n",
    "v = dataset[dataset['gear']=='Manual']['price']\n",
    "s= dataset[dataset['gear']=='Manual']['power']\n",
    "ttest_rel(v, s)"
   ]
  },
  {
   "cell_type": "code",
   "execution_count": 10,
   "id": "ca2e35cd",
   "metadata": {},
   "outputs": [
    {
     "data": {
      "text/plain": [
       "Ttest_indResult(statistic=0.3668630623384533, pvalue=0.7137238560062662)"
      ]
     },
     "execution_count": 10,
     "metadata": {},
     "output_type": "execute_result"
    }
   ],
   "source": [
    "from scipy.stats import ttest_ind\n",
    "dataset=dataset.dropna()\n",
    "v= dataset[dataset['gear']=='Manual']['price']\n",
    "s= dataset[dataset['gear']=='Automatic']['price']\n",
    "ttest_ind(v,s)"
   ]
  },
  {
   "cell_type": "code",
   "execution_count": 11,
   "id": "3b909543",
   "metadata": {},
   "outputs": [
    {
     "data": {
      "text/plain": [
       "Ttest_indResult(statistic=2.4020844204782024, pvalue=0.016308226816880805)"
      ]
     },
     "execution_count": 11,
     "metadata": {},
     "output_type": "execute_result"
    }
   ],
   "source": [
    "from scipy.stats import ttest_ind\n",
    "dataset=dataset.dropna()\n",
    "v= dataset[dataset['gear']=='Manual']['mileage']\n",
    "s= dataset[dataset['gear']=='Automatic']['mileage']\n",
    "ttest_ind(v,s)"
   ]
  },
  {
   "cell_type": "code",
   "execution_count": 12,
   "id": "d999f4f8",
   "metadata": {},
   "outputs": [],
   "source": [
    "# p<0.05 Reject Null Hypothesis. Here pvalue 0.00 There is a significant changes b/w Manualgear-mileage and Automaticgear-mileage"
   ]
  },
  {
   "cell_type": "code",
   "execution_count": 13,
   "id": "f186ce43",
   "metadata": {},
   "outputs": [
    {
     "data": {
      "text/plain": [
       "F_onewayResult(statistic=2.137245765599244, pvalue=0.11798551512090644)"
      ]
     },
     "execution_count": 13,
     "metadata": {},
     "output_type": "execute_result"
    }
   ],
   "source": [
    "import scipy.stats as stats\n",
    "stats.f_oneway(dataset['price'],dataset['mileage'],dataset['power'])"
   ]
  },
  {
   "cell_type": "code",
   "execution_count": 14,
   "id": "88384499",
   "metadata": {},
   "outputs": [],
   "source": [
    "#p value is p<0.05,Reject Null Hypothesis\n",
    "#Ho=There is no significant difference between coloumns\n",
    "#H1=There is a significant difference between coloumns"
   ]
  },
  {
   "cell_type": "code",
   "execution_count": 15,
   "id": "1e47832b",
   "metadata": {},
   "outputs": [],
   "source": [
    "#Here p value is 0.51 and it is greater than norm=Accept Null hypothesis(There is no significant difference between columns)"
   ]
  }
 ],
 "metadata": {
  "kernelspec": {
   "display_name": "Python 3 (ipykernel)",
   "language": "python",
   "name": "python3"
  },
  "language_info": {
   "codemirror_mode": {
    "name": "ipython",
    "version": 3
   },
   "file_extension": ".py",
   "mimetype": "text/x-python",
   "name": "python",
   "nbconvert_exporter": "python",
   "pygments_lexer": "ipython3",
   "version": "3.7.6"
  }
 },
 "nbformat": 4,
 "nbformat_minor": 5
}
